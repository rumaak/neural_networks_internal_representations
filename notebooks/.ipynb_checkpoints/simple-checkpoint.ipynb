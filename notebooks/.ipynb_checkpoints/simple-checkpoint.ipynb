{
 "cells": [
  {
   "cell_type": "markdown",
   "id": "c01a4e42-3a31-42be-a418-bb826298dd30",
   "metadata": {},
   "source": [
    "# Simple"
   ]
  },
  {
   "cell_type": "code",
   "execution_count": 1,
   "id": "281d82e2-8aa7-483a-a442-b9d992e8fb37",
   "metadata": {},
   "outputs": [],
   "source": [
    "import torch\n",
    "import torch.nn.functional as F\n",
    "import matplotlib.pyplot as plt\n",
    "import numpy as np\n",
    "\n",
    "from numpy.random import default_rng\n",
    "from torch import nn"
   ]
  },
  {
   "cell_type": "code",
   "execution_count": 2,
   "id": "ed42501e-fd52-450e-b889-8adf7c10f305",
   "metadata": {},
   "outputs": [],
   "source": [
    "rng = default_rng()"
   ]
  },
  {
   "cell_type": "markdown",
   "id": "0914c814-bb99-47d8-bce0-b2d9f0dcb711",
   "metadata": {},
   "source": [
    "Use GPU if possible"
   ]
  },
  {
   "cell_type": "code",
   "execution_count": 3,
   "id": "ac42c48d-0daa-4735-93ad-b1c94753e884",
   "metadata": {},
   "outputs": [
    {
     "name": "stderr",
     "output_type": "stream",
     "text": [
      "/home/rumaak/Dropbox/College/BP_RP/neural_networks_internal_representations/venv/lib/python3.9/site-packages/torch/cuda/__init__.py:52: UserWarning: CUDA initialization: CUDA unknown error - this may be due to an incorrectly set up environment, e.g. changing env variable CUDA_VISIBLE_DEVICES after program start. Setting the available devices to be zero. (Triggered internally at  /pytorch/c10/cuda/CUDAFunctions.cpp:109.)\n",
      "  return torch._C._cuda_getDeviceCount() > 0\n"
     ]
    }
   ],
   "source": [
    "if torch.cuda.is_available():\n",
    "    device = torch.device('cuda')\n",
    "else:\n",
    "    device = torch.device('cpu')"
   ]
  },
  {
   "cell_type": "markdown",
   "id": "b65c5e6d-c9e1-4d96-91b8-c1385e0caaa0",
   "metadata": {},
   "source": [
    "### Data"
   ]
  },
  {
   "cell_type": "markdown",
   "id": "f56cf8a5-4f53-4123-9139-9df98541928e",
   "metadata": {},
   "source": [
    "Data loading and visualization"
   ]
  },
  {
   "cell_type": "code",
   "execution_count": 4,
   "id": "3580ce95-5184-414d-9f80-b41c0ce2ada3",
   "metadata": {},
   "outputs": [],
   "source": [
    "dataset = 'simple'\n",
    "size = 9\n",
    "dim = 25\n",
    "shape = (5,5)\n",
    "n_classes = 3"
   ]
  },
  {
   "cell_type": "code",
   "execution_count": 5,
   "id": "ba35f6fa-4e3b-49c7-8e22-9fda2a17bcce",
   "metadata": {},
   "outputs": [],
   "source": [
    "class_to_index = {1:0, 3:1, 4:2}\n",
    "index_to_class = [1, 3, 4]"
   ]
  },
  {
   "cell_type": "code",
   "execution_count": 6,
   "id": "e222f476-5078-4f94-b4c4-256496780b84",
   "metadata": {},
   "outputs": [],
   "source": [
    "def load_data(dataset, size, dim):\n",
    "    filename = '../data/' + dataset \n",
    "    \n",
    "    labels = torch.ones(size, dtype=torch.long).to(device)\n",
    "    data = torch.ones(size, dim, dtype=torch.float).to(device)\n",
    "    \n",
    "    with open(filename) as f:\n",
    "        for i,line in enumerate(f):\n",
    "            parts = line.split()\n",
    "            labels[i] = class_to_index[int(parts[0])]\n",
    "            for j,n in enumerate(parts[1]):\n",
    "                data[i,j] = int(n)\n",
    "            \n",
    "    return labels,data"
   ]
  },
  {
   "cell_type": "code",
   "execution_count": 7,
   "id": "0d5ae9b0-5c7d-4532-ad6c-4d49bf6253a0",
   "metadata": {},
   "outputs": [],
   "source": [
    "labels, data = load_data(dataset, size, dim)"
   ]
  },
  {
   "cell_type": "code",
   "execution_count": 8,
   "id": "23fd0e44-4067-40f4-b30a-b6ab8c92243a",
   "metadata": {},
   "outputs": [],
   "source": [
    "def visualize(labels,data,shape,count=3):\n",
    "    indices = rng.choice(len(labels), size=count, replace=False)\n",
    "    fig, axs = plt.subplots(1, count)\n",
    "    fig.suptitle('Dataset examples')\n",
    "\n",
    "    images = []\n",
    "    for j in range(count):\n",
    "        image = torch.reshape(data[indices[j]], shape)\n",
    "        images.append(axs[j].imshow(image))\n",
    "        class_index = labels[indices[j]].item()\n",
    "        axs[j].set_title(index_to_class[class_index])"
   ]
  },
  {
   "cell_type": "code",
   "execution_count": 9,
   "id": "8a6cf119-c831-4c26-b9d0-6c30c17c5dd3",
   "metadata": {},
   "outputs": [
    {
     "data": {
      "image/png": "[encoded data removed]",
      "text/plain": [
       "<Figure size 432x288 with 3 Axes>"
      ]
     },
     "metadata": {
      "needs_background": "light"
     },
     "output_type": "display_data"
    }
   ],
   "source": [
    "visualize(labels,data,shape)"
   ]
  },
  {
   "cell_type": "markdown",
   "id": "7951fc83-85cb-4f21-9be1-7a6cb693a046",
   "metadata": {},
   "source": [
    "### Model"
   ]
  },
  {
   "cell_type": "markdown",
   "id": "a68e0000-9574-4625-b9c3-6196e072ce18",
   "metadata": {},
   "source": [
    "The model that will be trained"
   ]
  },
  {
   "cell_type": "code",
   "execution_count": 10,
   "id": "716cbd85-2244-46d2-b20e-4e16c452bd39",
   "metadata": {},
   "outputs": [],
   "source": [
    "class NeuralNetwork(nn.Module):\n",
    "    def __init__(self, size):\n",
    "        super(NeuralNetwork, self).__init__()\n",
    "        self.l1 = nn.Linear(size, 10)\n",
    "        self.out = nn.Linear(10, 3)\n",
    "\n",
    "    def forward(self, x):\n",
    "        x = F.relu(self.l1(x))\n",
    "        x = F.relu(self.out(x))\n",
    "        return x\n"
   ]
  },
  {
   "cell_type": "code",
   "execution_count": 20,
   "id": "e950c577-538b-4364-bde6-d074c08a53d7",
   "metadata": {},
   "outputs": [
    {
     "name": "stdout",
     "output_type": "stream",
     "text": [
      "NeuralNetwork(\n",
      "  (l1): Linear(in_features=25, out_features=10, bias=True)\n",
      "  (out): Linear(in_features=10, out_features=3, bias=True)\n",
      ")\n"
     ]
    }
   ],
   "source": [
    "model = NeuralNetwork(dim).to(device)\n",
    "print(model)"
   ]
  },
  {
   "cell_type": "markdown",
   "id": "5e7928ef-d227-46af-8da7-b8b89eaafc4d",
   "metadata": {},
   "source": [
    "### Training"
   ]
  },
  {
   "cell_type": "markdown",
   "id": "eb69efd2-1f6b-4703-b55e-b584b76d03f1",
   "metadata": {},
   "source": [
    "Training functionality"
   ]
  },
  {
   "cell_type": "code",
   "execution_count": 12,
   "id": "058c7578-0e1c-4d00-bf98-59d1711ba994",
   "metadata": {},
   "outputs": [],
   "source": [
    "def train(data, labels, size, n_classes, model, loss_fn, optimizer):\n",
    "    pred = model(data)\n",
    "    loss = loss_fn(pred, labels)\n",
    "    \n",
    "    # Backpropagation\n",
    "    optimizer.zero_grad()\n",
    "    loss.backward()\n",
    "    optimizer.step()\n",
    "    \n",
    "    return loss.item()"
   ]
  },
  {
   "cell_type": "code",
   "execution_count": 13,
   "id": "93dca6d3-840a-481a-88a7-29fcc57b76f5",
   "metadata": {},
   "outputs": [],
   "source": [
    "def training_loop(epochs, data, labels, size, n_classes, model, loss_fn, optimizer):\n",
    "    for t in range(epochs):\n",
    "        loss = train(data, labels, size, n_classes, model, loss_fn, optimizer)\n",
    "        if (t % 200 == 0):\n",
    "            print(\"Epoch \" + str(t))\n",
    "            print(\"Loss \" + str(loss))"
   ]
  },
  {
   "cell_type": "markdown",
   "id": "95ea14c8-e3d7-40fe-b221-4d300844434a",
   "metadata": {},
   "source": [
    "### Analysis"
   ]
  },
  {
   "cell_type": "markdown",
   "id": "7b294128-b773-447e-9360-acfb2c691846",
   "metadata": {},
   "source": [
    "Comparing heatmaps between trained and untrainted model. Beware that for now the analysis assumes that the model used is the model specified above."
   ]
  },
  {
   "cell_type": "code",
   "execution_count": 14,
   "id": "efe0be29-4c65-4481-a4e9-65aac2eeff45",
   "metadata": {},
   "outputs": [],
   "source": [
    "def show_heatmaps(n_classes, model):\n",
    "    weights_l1 = model.l1.weight.detach()\n",
    "    weights_out = model.out.weight.detach()\n",
    "    \n",
    "    fig, axs = plt.subplots(1, n_classes)\n",
    "    fig.suptitle('Class heatmaps')\n",
    "    \n",
    "    images = []\n",
    "    for j in range(n_classes):\n",
    "        out = torch.zeros(n_classes)\n",
    "        out[j] = 1\n",
    "        hidden = torch.matmul(torch.transpose(weights_out, 0, 1), out)\n",
    "        inp = torch.matmul(torch.transpose(weights_l1, 0, 1), hidden)\n",
    "        image = torch.reshape(inp, shape)\n",
    "        images.append(axs[j].imshow(image))\n",
    "        axs[j].set_title(index_to_class[j])"
   ]
  },
  {
   "cell_type": "markdown",
   "id": "f795dab8-64a7-41ea-bb92-97ca04e11f5f",
   "metadata": {},
   "source": [
    "Heatmap of untrained model"
   ]
  },
  {
   "cell_type": "code",
   "execution_count": 21,
   "id": "be8f1a3d-6a78-4ee4-becc-b626255df99c",
   "metadata": {},
   "outputs": [
    {
     "data": {
      "image/png": "[encoded data removed]",
      "text/plain": [
       "<Figure size 432x288 with 3 Axes>"
      ]
     },
     "metadata": {
      "needs_background": "light"
     },
     "output_type": "display_data"
    }
   ],
   "source": [
    "show_heatmaps(3, model)"
   ]
  },
  {
   "cell_type": "code",
   "execution_count": 22,
   "id": "e75dd841-94b1-4919-ba7c-f23c5a9e9167",
   "metadata": {},
   "outputs": [
    {
     "name": "stdout",
     "output_type": "stream",
     "text": [
      "Epoch 0\n",
      "Loss 1.1070704460144043\n",
      "Epoch 200\n",
      "Loss 0.0009537786245346069\n",
      "Epoch 400\n",
      "Loss 0.00040611220174469054\n",
      "Epoch 600\n",
      "Loss 0.00025095033925026655\n",
      "Epoch 800\n",
      "Loss 0.00018001289572566748\n",
      "Epoch 1000\n",
      "Loss 0.0001394101418554783\n",
      "Epoch 1200\n",
      "Loss 0.0001132675533881411\n",
      "Epoch 1400\n",
      "Loss 9.50573303271085e-05\n",
      "Epoch 1600\n",
      "Loss 8.170730870915577e-05\n",
      "Epoch 1800\n",
      "Loss 7.153572369134054e-05\n"
     ]
    }
   ],
   "source": [
    "loss_fn = nn.CrossEntropyLoss()\n",
    "optimizer = torch.optim.SGD(model.parameters(), lr=1)\n",
    "\n",
    "epochs = 2000\n",
    "training_loop(epochs, data, labels, size, n_classes, model, loss_fn, optimizer)"
   ]
  },
  {
   "cell_type": "markdown",
   "id": "94deb91a-2c0c-41b0-a11c-618f74598b14",
   "metadata": {},
   "source": [
    "Heatmap of trained model"
   ]
  },
  {
   "cell_type": "code",
   "execution_count": 23,
   "id": "e0d98bad-a938-49c0-a402-6b8e1c6839dd",
   "metadata": {},
   "outputs": [
    {
     "data": {
      "image/png": "[encoded data removed]",
      "text/plain": [
       "<Figure size 432x288 with 3 Axes>"
      ]
     },
     "metadata": {
      "needs_background": "light"
     },
     "output_type": "display_data"
    }
   ],
   "source": [
    "show_heatmaps(3, model)"
   ]
  },
  {
   "cell_type": "code",
   "execution_count": null,
   "id": "c569087f-ae5a-4d05-afca-8728a6eec735",
   "metadata": {},
   "outputs": [],
   "source": []
  }
 ],
 "metadata": {
  "kernelspec": {
   "display_name": "Python 3",
   "language": "python",
   "name": "python3"
  },
  "language_info": {
   "codemirror_mode": {
    "name": "ipython",
    "version": 3
   },
   "file_extension": ".py",
   "mimetype": "text/x-python",
   "name": "python",
   "nbconvert_exporter": "python",
   "pygments_lexer": "ipython3",
   "version": "3.9.3"
  }
 },
 "nbformat": 4,
 "nbformat_minor": 5
}

{
 "cells": [
  {
   "cell_type": "markdown",
   "id": "2aa40919-5dc6-400f-8186-a1f1bfb6b63e",
   "metadata": {},
   "source": [
    "# CNN activations\n",
    "This is a development notebook used for computing and analyzing the activations of a convolutional neural network."
   ]
  },
  {
   "cell_type": "code",
   "execution_count": 1,
   "id": "8ebe5821-4901-4a07-9e9b-0aeb35755001",
   "metadata": {},
   "outputs": [],
   "source": [
    "import torch\n",
    "import torch.nn as nn\n",
    "import torch.nn.functional as F\n",
    "from torch.utils.data import DataLoader\n",
    "\n",
    "import umap\n",
    "from openTSNE import TSNE\n",
    "from sklearn.neighbors import KNeighborsClassifier\n",
    "\n",
    "import pandas as pd\n",
    "import numpy as np\n",
    "import matplotlib.pyplot as plt\n",
    "\n",
    "from numpy.random import default_rng\n",
    "\n",
    "import json\n",
    "import importlib\n",
    "from copy import deepcopy"
   ]
  },
  {
   "cell_type": "code",
   "execution_count": 2,
   "id": "81bbf264-8e67-419a-9f99-3a222dc3874c",
   "metadata": {},
   "outputs": [
    {
     "name": "stderr",
     "output_type": "stream",
     "text": [
      "/home/rumaak/Dropbox/College/BP_RP/neural_networks_internal_representations/venv/lib/python3.9/site-packages/torch/cuda/__init__.py:52: UserWarning: CUDA initialization: CUDA unknown error - this may be due to an incorrectly set up environment, e.g. changing env variable CUDA_VISIBLE_DEVICES after program start. Setting the available devices to be zero. (Triggered internally at  /pytorch/c10/cuda/CUDAFunctions.cpp:109.)\n",
      "  return torch._C._cuda_getDeviceCount() > 0\n"
     ]
    }
   ],
   "source": [
    "if torch.cuda.is_available():\n",
    "    device = torch.device('cuda')\n",
    "else:\n",
    "    device = torch.device('cpu')"
   ]
  },
  {
   "cell_type": "code",
   "execution_count": 3,
   "id": "8ae7015c-0381-4d9d-9416-b5e8567271b8",
   "metadata": {},
   "outputs": [],
   "source": [
    "rng = default_rng()"
   ]
  },
  {
   "cell_type": "markdown",
   "id": "98862629-ac99-4283-bd61-c8b2c71db3ef",
   "metadata": {},
   "source": [
    "### Data"
   ]
  },
  {
   "cell_type": "markdown",
   "id": "a3e115e4-8804-46e4-ba66-d5794a0ee955",
   "metadata": {},
   "source": [
    "Loading MNIST and FashionMNIST datasets."
   ]
  },
  {
   "cell_type": "code",
   "execution_count": 4,
   "id": "07f37ea5-ab39-4e0e-b8c4-64dc48902493",
   "metadata": {},
   "outputs": [],
   "source": [
    "from src.dataset_loading import load_MNIST, load_FashionMNIST"
   ]
  },
  {
   "cell_type": "markdown",
   "id": "9a155223-12b8-4f99-bbf7-00e2d353e069",
   "metadata": {},
   "source": [
    "Some properties of the MNIST dataset:"
   ]
  },
  {
   "cell_type": "code",
   "execution_count": 5,
   "id": "eb32b45a-2ae9-4675-907e-9b7ab76ab9ac",
   "metadata": {},
   "outputs": [],
   "source": [
    "training_data, test_data = load_MNIST()"
   ]
  },
  {
   "cell_type": "code",
   "execution_count": 6,
   "id": "700d4061-ac50-491b-aaff-c3eb6476c018",
   "metadata": {},
   "outputs": [],
   "source": [
    "train_dataloader = DataLoader(training_data, batch_size=64, shuffle=True)\n",
    "test_dataloader = DataLoader(test_data, batch_size=64, shuffle=True)"
   ]
  },
  {
   "cell_type": "code",
   "execution_count": 7,
   "id": "9757ace9-cb87-4721-9321-fd65bee99afe",
   "metadata": {},
   "outputs": [
    {
     "name": "stdout",
     "output_type": "stream",
     "text": [
      "Dataset MNIST\n",
      "    Number of datapoints: 60000\n",
      "    Root location: ../data\n",
      "    Split: Train\n",
      "    StandardTransform\n",
      "Transform: ToTensor()\n",
      "Dataset MNIST\n",
      "    Number of datapoints: 10000\n",
      "    Root location: ../data\n",
      "    Split: Test\n",
      "    StandardTransform\n",
      "Transform: ToTensor()\n"
     ]
    }
   ],
   "source": [
    "print(training_data)\n",
    "print(test_data)"
   ]
  },
  {
   "cell_type": "code",
   "execution_count": 8,
   "id": "28c28e9d-e806-4cb3-ae0f-72353d1d0c8a",
   "metadata": {},
   "outputs": [
    {
     "name": "stdout",
     "output_type": "stream",
     "text": [
      "Feature batch shape: torch.Size([64, 1, 28, 28])\n",
      "Number of classes: 10\n"
     ]
    }
   ],
   "source": [
    "train_features, train_labels = next(iter(train_dataloader))\n",
    "print(f\"Feature batch shape: {train_features.size()}\")\n",
    "print(f\"Number of classes: {len(training_data.classes)}\")"
   ]
  },
  {
   "cell_type": "markdown",
   "id": "68f86ed3-ac55-47fb-8919-2faae7f71f89",
   "metadata": {},
   "source": [
    "Some properties of the FashionMNIST dataset:"
   ]
  },
  {
   "cell_type": "code",
   "execution_count": 9,
   "id": "8db7c6f7-3b18-4ee5-a3e7-804e81f79145",
   "metadata": {},
   "outputs": [],
   "source": [
    "training_data, test_data = load_FashionMNIST()"
   ]
  },
  {
   "cell_type": "code",
   "execution_count": 10,
   "id": "0146b33c-c1a0-4747-9c8a-da8083a85ce0",
   "metadata": {},
   "outputs": [],
   "source": [
    "train_dataloader = DataLoader(training_data, batch_size=64, shuffle=True)\n",
    "test_dataloader = DataLoader(test_data, batch_size=64, shuffle=True)"
   ]
  },
  {
   "cell_type": "code",
   "execution_count": 11,
   "id": "d495bc44-981f-4e46-860f-2645905868a1",
   "metadata": {},
   "outputs": [
    {
     "name": "stdout",
     "output_type": "stream",
     "text": [
      "Dataset FashionMNIST\n",
      "    Number of datapoints: 60000\n",
      "    Root location: ../data\n",
      "    Split: Train\n",
      "    StandardTransform\n",
      "Transform: ToTensor()\n",
      "Dataset FashionMNIST\n",
      "    Number of datapoints: 10000\n",
      "    Root location: ../data\n",
      "    Split: Test\n",
      "    StandardTransform\n",
      "Transform: ToTensor()\n"
     ]
    }
   ],
   "source": [
    "print(training_data)\n",
    "print(test_data)"
   ]
  },
  {
   "cell_type": "code",
   "execution_count": 12,
   "id": "145727a6-c5cb-47ee-88cf-aabfb7f2e33b",
   "metadata": {},
   "outputs": [
    {
     "name": "stdout",
     "output_type": "stream",
     "text": [
      "Feature batch shape: torch.Size([64, 1, 28, 28])\n",
      "Number of classes: 10\n"
     ]
    }
   ],
   "source": [
    "train_features, train_labels = next(iter(train_dataloader))\n",
    "print(f\"Feature batch shape: {train_features.size()}\")\n",
    "print(f\"Number of classes: {len(training_data.classes)}\")"
   ]
  },
  {
   "cell_type": "markdown",
   "id": "98d901e5-9623-44aa-a120-3a8ad22fd606",
   "metadata": {},
   "source": [
    "We can see that both datasets consist of 60 000 training and 10 000 test examples. Each image of either dataset has only a single channel and its dimensions are 28x28. Each example is associated with one of ten labels."
   ]
  },
  {
   "cell_type": "code",
   "execution_count": 13,
   "id": "07768a58-8842-45b1-bd2b-4d8d0d2d2824",
   "metadata": {},
   "outputs": [],
   "source": [
    "width, height = 28, 28\n",
    "n_classes = 10\n",
    "n_examples = 60_000"
   ]
  },
  {
   "cell_type": "markdown",
   "id": "be90c573-d53e-4bbd-9dc5-a48c431069eb",
   "metadata": {},
   "source": [
    "### Model\n",
    "The model we are going to be working with."
   ]
  },
  {
   "cell_type": "code",
   "execution_count": 14,
   "id": "ec413787-e9fd-45ef-913e-2fe31c721df9",
   "metadata": {},
   "outputs": [],
   "source": [
    "from src.activations_cnn.network import NeuralNetwork"
   ]
  },
  {
   "cell_type": "markdown",
   "id": "923a6cef-c6cd-4d34-be7e-be2a895066f5",
   "metadata": {},
   "source": [
    "### Training\n",
    "Methods used for training of the network."
   ]
  },
  {
   "cell_type": "code",
   "execution_count": 15,
   "id": "b3adefd8-838a-432a-b25a-5960e19887e3",
   "metadata": {},
   "outputs": [],
   "source": [
    "from src.activations_cnn.training import train_loop, test_loop"
   ]
  },
  {
   "cell_type": "markdown",
   "id": "45ac365d-694f-455c-9b92-6417a45ab31f",
   "metadata": {},
   "source": [
    "### Analysis\n",
    "Analysis of the neural network activations."
   ]
  },
  {
   "cell_type": "code",
   "execution_count": 16,
   "id": "29196233-d589-4d1a-9a3c-d6f682278641",
   "metadata": {},
   "outputs": [],
   "source": [
    "from src.activations_cnn.metrics import same_diff_average, knn_evaluate, dist_between_centroids, dist_to_centroid"
   ]
  },
  {
   "cell_type": "code",
   "execution_count": 17,
   "id": "af45d5c2-cae6-4b32-85e1-1ac3f8452cac",
   "metadata": {},
   "outputs": [],
   "source": [
    "from src.activations_cnn.analysis import get_activations_labels, single_embedding_metrics, analyze_outliers, analyze_filters"
   ]
  },
  {
   "cell_type": "code",
   "execution_count": 18,
   "id": "fe397887-7f51-443c-90cf-4ef51168dcf1",
   "metadata": {},
   "outputs": [],
   "source": [
    "from src.activations_cnn.embedding import activations_tsne_plot_save, activations_umap_plot_save"
   ]
  },
  {
   "cell_type": "markdown",
   "id": "16013953-d1d5-41eb-9a49-07d0809696c5",
   "metadata": {},
   "source": [
    "### MNIST"
   ]
  },
  {
   "cell_type": "code",
   "execution_count": 19,
   "id": "bd3316bb-6b56-443f-a392-4f1e4fdc886a",
   "metadata": {},
   "outputs": [],
   "source": [
    "# Load data\n",
    "training_data, test_data = load_MNIST()\n",
    "train_dataloader = DataLoader(training_data, batch_size=64, shuffle=True)\n",
    "test_dataloader = DataLoader(test_data, batch_size=64, shuffle=True)"
   ]
  },
  {
   "cell_type": "code",
   "execution_count": 20,
   "id": "552ccf3a-fa32-421c-9457-6cb9ae271cd6",
   "metadata": {},
   "outputs": [
    {
     "data": {
      "text/plain": [
       "<All keys matched successfully>"
      ]
     },
     "execution_count": 20,
     "metadata": {},
     "output_type": "execute_result"
    }
   ],
   "source": [
    "# Initialize network\n",
    "network = NeuralNetwork(n_classes)\n",
    "network.to(device)\n",
    "\n",
    "# Save untrained copy of the network\n",
    "untrained_state = deepcopy(network.state_dict())\n",
    "untrained_network = NeuralNetwork(n_classes)\n",
    "untrained_network.to(device).load_state_dict(untrained_state)"
   ]
  },
  {
   "cell_type": "code",
   "execution_count": 21,
   "id": "cfdf298a-71fe-4680-885d-47f61509a7d2",
   "metadata": {},
   "outputs": [
    {
     "name": "stdout",
     "output_type": "stream",
     "text": [
      "Epoch 1\n",
      "-------------------------------\n",
      "loss: 2.304328  [    0/60000]\n",
      "loss: 2.153396  [ 6400/60000]\n",
      "loss: 0.587635  [12800/60000]\n",
      "loss: 0.349380  [19200/60000]\n",
      "loss: 0.473319  [25600/60000]\n",
      "loss: 0.157451  [32000/60000]\n",
      "loss: 0.278277  [38400/60000]\n",
      "loss: 0.204452  [44800/60000]\n",
      "loss: 0.063766  [51200/60000]\n",
      "loss: 0.118223  [57600/60000]\n",
      "Test Error: \n",
      " Accuracy: 96.7%, Avg loss: 0.103678 \n",
      "\n",
      "Epoch 2\n",
      "-------------------------------\n",
      "loss: 0.076191  [    0/60000]\n",
      "loss: 0.117068  [ 6400/60000]\n",
      "loss: 0.037590  [12800/60000]\n",
      "loss: 0.048534  [19200/60000]\n",
      "loss: 0.242075  [25600/60000]\n",
      "loss: 0.054247  [32000/60000]\n",
      "loss: 0.040252  [38400/60000]\n",
      "loss: 0.018279  [44800/60000]\n",
      "loss: 0.020248  [51200/60000]\n",
      "loss: 0.108699  [57600/60000]\n",
      "Test Error: \n",
      " Accuracy: 97.7%, Avg loss: 0.067349 \n",
      "\n",
      "Epoch 3\n",
      "-------------------------------\n",
      "loss: 0.096726  [    0/60000]\n",
      "loss: 0.156895  [ 6400/60000]\n",
      "loss: 0.122901  [12800/60000]\n",
      "loss: 0.103222  [19200/60000]\n",
      "loss: 0.057355  [25600/60000]\n",
      "loss: 0.055459  [32000/60000]\n",
      "loss: 0.146562  [38400/60000]\n",
      "loss: 0.052635  [44800/60000]\n",
      "loss: 0.071498  [51200/60000]\n",
      "loss: 0.005027  [57600/60000]\n",
      "Test Error: \n",
      " Accuracy: 97.9%, Avg loss: 0.059652 \n",
      "\n",
      "Epoch 4\n",
      "-------------------------------\n",
      "loss: 0.058732  [    0/60000]\n",
      "loss: 0.043137  [ 6400/60000]\n",
      "loss: 0.014377  [12800/60000]\n",
      "loss: 0.179174  [19200/60000]\n",
      "loss: 0.042313  [25600/60000]\n",
      "loss: 0.006428  [32000/60000]\n",
      "loss: 0.044547  [38400/60000]\n",
      "loss: 0.024075  [44800/60000]\n",
      "loss: 0.069457  [51200/60000]\n",
      "loss: 0.011826  [57600/60000]\n",
      "Test Error: \n",
      " Accuracy: 98.4%, Avg loss: 0.047345 \n",
      "\n",
      "Epoch 5\n",
      "-------------------------------\n",
      "loss: 0.025287  [    0/60000]\n",
      "loss: 0.035028  [ 6400/60000]\n",
      "loss: 0.006049  [12800/60000]\n",
      "loss: 0.017876  [19200/60000]\n",
      "loss: 0.005507  [25600/60000]\n",
      "loss: 0.011396  [32000/60000]\n",
      "loss: 0.010810  [38400/60000]\n",
      "loss: 0.012774  [44800/60000]\n",
      "loss: 0.007117  [51200/60000]\n",
      "loss: 0.118501  [57600/60000]\n",
      "Test Error: \n",
      " Accuracy: 98.5%, Avg loss: 0.044976 \n",
      "\n",
      "Done!\n"
     ]
    }
   ],
   "source": [
    "loss_fn = nn.CrossEntropyLoss()\n",
    "optimizer = torch.optim.SGD(network.parameters(), lr=1e-2, momentum=0.9)\n",
    "\n",
    "epochs = 5\n",
    "for t in range(epochs):\n",
    "    print(f\"Epoch {t+1}\\n-------------------------------\")\n",
    "    train_loop(train_dataloader, network, loss_fn, optimizer, device)\n",
    "    test_loop(test_dataloader, network, loss_fn, device)\n",
    "print(\"Done!\")"
   ]
  },
  {
   "cell_type": "code",
   "execution_count": 22,
   "id": "5b86beea-934a-497b-bdce-7a69ea5c19c0",
   "metadata": {},
   "outputs": [],
   "source": [
    "# We won't need the data to be shuffled anymore\n",
    "train_dataloader = DataLoader(training_data, batch_size=64, shuffle=False)\n",
    "test_dataloader = DataLoader(test_data, batch_size=64, shuffle=False)"
   ]
  },
  {
   "cell_type": "code",
   "execution_count": 23,
   "id": "05e1cc19-a1ae-49c2-8e92-5e402cb43bca",
   "metadata": {},
   "outputs": [],
   "source": [
    "# Saving activations over the whole dataset for individual layers \n",
    "# (and corresponding filters)\n",
    "activations_zero, activations_first, activations_second, activations_third, labels = get_activations_labels(\n",
    "    n_examples,\n",
    "    width,\n",
    "    height,\n",
    "    train_dataloader,\n",
    "    network,\n",
    "    device\n",
    ")"
   ]
  },
  {
   "cell_type": "code",
   "execution_count": 24,
   "id": "15349df3-c0f1-4a7c-8223-7e0c6a4386c1",
   "metadata": {},
   "outputs": [],
   "source": [
    "# Take smaller subset of data\n",
    "\n",
    "labels = labels[:5_000]\n",
    "activations_zero = activations_zero[:5000]\n",
    "\n",
    "for i in range(4):\n",
    "    activations_first[i] = activations_first[i][:5000]\n",
    "    \n",
    "for i in range(16):\n",
    "    activations_second[i] = activations_second[i][:5000]\n",
    "\n",
    "activations_third = activations_third[:5000]"
   ]
  },
  {
   "cell_type": "code",
   "execution_count": 25,
   "id": "1c9e1985-d2cf-480a-8575-2640173d5383",
   "metadata": {},
   "outputs": [],
   "source": [
    "# --------- activations from network extracted -------- "
   ]
  },
  {
   "cell_type": "code",
   "execution_count": 26,
   "id": "801029e5-5dd5-4061-9d53-61e1f6edf300",
   "metadata": {},
   "outputs": [],
   "source": [
    "# Computing embeddings for one of the layers (filters)"
   ]
  },
  {
   "cell_type": "code",
   "execution_count": 27,
   "id": "cc816832-379e-48c7-8fc5-e342686e9038",
   "metadata": {},
   "outputs": [
    {
     "name": "stdout",
     "output_type": "stream",
     "text": [
      "Learning embeddings for original dataset\n",
      "Learning embeddings for first layer\n",
      "Learning embeddings for second layer\n",
      "Learning embeddings for third layer\n",
      "CPU times: user 22min 40s, sys: 21.1 s, total: 23min 1s\n",
      "Wall time: 3min 13s\n"
     ]
    }
   ],
   "source": [
    "%%time\n",
    "\n",
    "embeddings = activations_tsne_plot_save(activations_zero, activations_first, activations_second,\n",
    "    activations_third, labels, training_data, \"../out/activations_cnn/mnist/t-sne/trained/plot\")"
   ]
  },
  {
   "cell_type": "code",
   "execution_count": 28,
   "id": "d963c9c7-4895-446d-84c4-d7cae6d1ae0e",
   "metadata": {},
   "outputs": [],
   "source": [
    "# Metrics of embedding quality (same as before)"
   ]
  },
  {
   "cell_type": "code",
   "execution_count": 29,
   "id": "727f3e3e-eec2-407e-bc83-5c9ce0828636",
   "metadata": {},
   "outputs": [],
   "source": [
    "def update_results(results, embeddings, dataset_name, network_type, labels, training_data):\n",
    "    e0, e1, e2, e3 = embeddings \n",
    "    \n",
    "    results[0][(dataset_name, network_type)] = [(single_embedding_metrics(e0, labels, training_data))]\n",
    "    \n",
    "    results[1][(dataset_name, network_type)] = []\n",
    "    for e in e1:\n",
    "        results[1][(dataset_name, network_type)].append(single_embedding_metrics(e, labels, training_data))\n",
    "        \n",
    "    results[2][(dataset_name, network_type)] = []\n",
    "    for e in e2:\n",
    "        results[2][(dataset_name, network_type)].append(single_embedding_metrics(e, labels, training_data))\n",
    "        \n",
    "    results[3][(dataset_name, network_type)] = [(single_embedding_metrics(e3, labels, training_data))]"
   ]
  },
  {
   "cell_type": "code",
   "execution_count": 30,
   "id": "51cc9b28-6319-4b78-a0ff-3ebca44e9c7d",
   "metadata": {},
   "outputs": [],
   "source": [
    "results = {\n",
    "    0: dict(),\n",
    "    1: dict(),\n",
    "    2: dict(),\n",
    "    3: dict()\n",
    "}\n",
    "update_results(results, embeddings, \"t-sne\", \"trained\", labels, training_data)"
   ]
  },
  {
   "cell_type": "code",
   "execution_count": 31,
   "id": "75f09e07-60aa-4d30-a5bb-40c75f668db2",
   "metadata": {},
   "outputs": [],
   "source": [
    "def stringify_results(results):\n",
    "    new_results = dict()\n",
    "    for key1 in results:\n",
    "        new_results[key1] = dict()\n",
    "        result = results[key1]\n",
    "        for key2 in result:\n",
    "            new_results[key1][str(key2)] = result[key2]\n",
    "            \n",
    "    return new_results"
   ]
  },
  {
   "cell_type": "code",
   "execution_count": 32,
   "id": "4f1c91c0-95c4-4062-a602-88e2b2492ffb",
   "metadata": {},
   "outputs": [],
   "source": [
    "# ------- results (metrics) computed and saved into `results` ----------"
   ]
  },
  {
   "cell_type": "code",
   "execution_count": null,
   "id": "ed7bc249-a421-4bc9-b34f-5b20a3f6e2e4",
   "metadata": {},
   "outputs": [],
   "source": []
  },
  {
   "cell_type": "code",
   "execution_count": null,
   "id": "12e8dfa5-a031-4e7f-a8a2-3268b736a8dd",
   "metadata": {},
   "outputs": [],
   "source": []
  },
  {
   "cell_type": "code",
   "execution_count": 33,
   "id": "03eab185-6a70-428d-a9cc-27b030d3daa5",
   "metadata": {},
   "outputs": [],
   "source": [
    "# Analysis of the third layer"
   ]
  },
  {
   "cell_type": "code",
   "execution_count": 34,
   "id": "c2a7136e-c428-4b1f-9736-8045371f0a69",
   "metadata": {},
   "outputs": [],
   "source": [
    "e0, e1, e2, e3 = embeddings "
   ]
  },
  {
   "cell_type": "code",
   "execution_count": 35,
   "id": "42af9e2d-af5d-4503-a30f-0860fa1c22b3",
   "metadata": {},
   "outputs": [
    {
     "data": {
      "image/png": "[encoded data removed]",
      "text/plain": [
       "<Figure size 864x576 with 1 Axes>"
      ]
     },
     "metadata": {
      "needs_background": "light"
     },
     "output_type": "display_data"
    }
   ],
   "source": [
    "# NOTE: no need to create new plot - already exists\n",
    "fig, axes = plt.subplots(figsize=(12,8))\n",
    "\n",
    "for i,actual_label in enumerate(training_data.classes):\n",
    "    indices = np.argwhere(labels == i)\n",
    "    indices = np.squeeze(indices)\n",
    "\n",
    "    axes.scatter(e3[indices,0],e3[indices,1],label=actual_label,s=12)\n",
    "    axes.legend(markerscale=3, fontsize=12)"
   ]
  },
  {
   "cell_type": "code",
   "execution_count": 36,
   "id": "27912d9d-6c29-49ac-99a2-d749ba3ae06f",
   "metadata": {},
   "outputs": [
    {
     "name": "stdout",
     "output_type": "stream",
     "text": [
      "CPU times: user 22.7 s, sys: 119 ms, total: 22.8 s\n",
      "Wall time: 16.6 s\n"
     ]
    }
   ],
   "source": [
    "%%time\n",
    "\n",
    "analyze_outliers(training_data, e3, labels, \"../out/activations_cnn/mnist/t-sne/outliers/\")"
   ]
  },
  {
   "cell_type": "code",
   "execution_count": 37,
   "id": "7c6732fe-02c0-4e53-b1c5-20a13b73112d",
   "metadata": {},
   "outputs": [],
   "source": [
    "# Per filter analysis"
   ]
  },
  {
   "cell_type": "code",
   "execution_count": 38,
   "id": "a8c7709e-526c-40c1-b3d3-a9de7abbeae0",
   "metadata": {},
   "outputs": [
    {
     "name": "stdout",
     "output_type": "stream",
     "text": [
      "CPU times: user 10 s, sys: 43.2 ms, total: 10.1 s\n",
      "Wall time: 9.6 s\n"
     ]
    }
   ],
   "source": [
    "%%time\n",
    "\n",
    "analyze_filters(training_data, \"../out/activations_cnn/mnist/t-sne/filter_outputs/\", network, rng, device)"
   ]
  },
  {
   "cell_type": "code",
   "execution_count": null,
   "id": "5ffc3bea-48fb-4c7e-ad50-6aa8de79dd2f",
   "metadata": {},
   "outputs": [],
   "source": []
  },
  {
   "cell_type": "code",
   "execution_count": null,
   "id": "fa0e00b2-b541-4068-a412-f0910445e17d",
   "metadata": {},
   "outputs": [],
   "source": []
  },
  {
   "cell_type": "code",
   "execution_count": null,
   "id": "f2ec4fd9-db6e-4e86-9747-2d7c64b9a7ee",
   "metadata": {},
   "outputs": [],
   "source": []
  },
  {
   "cell_type": "code",
   "execution_count": null,
   "id": "71b9ccc3-a5df-43f1-a161-d62c67c67e16",
   "metadata": {},
   "outputs": [],
   "source": []
  },
  {
   "cell_type": "code",
   "execution_count": 39,
   "id": "4482bd13-196f-4d96-b9fc-29a65cb7c861",
   "metadata": {},
   "outputs": [],
   "source": [
    "# UMAP"
   ]
  },
  {
   "cell_type": "code",
   "execution_count": 40,
   "id": "b5dceaf2-41b4-468e-be84-cbe6a0a394ee",
   "metadata": {},
   "outputs": [
    {
     "name": "stdout",
     "output_type": "stream",
     "text": [
      "Learning embeddings for original dataset\n",
      "Learning embeddings for first layer\n",
      "Learning embeddings for second layer\n",
      "Learning embeddings for third layer\n",
      "CPU times: user 7min 29s, sys: 20.3 s, total: 7min 50s\n",
      "Wall time: 2min 8s\n"
     ]
    }
   ],
   "source": [
    "%%time\n",
    "\n",
    "e0, e1, e2, e3 = activations_umap_plot_save(activations_zero, activations_first, activations_second,\n",
    "    activations_third, labels, training_data, \"../out/activations_cnn/mnist/umap/trained/plot\")"
   ]
  },
  {
   "cell_type": "code",
   "execution_count": 41,
   "id": "877122d8-4bb4-4653-9a85-b16890f5c630",
   "metadata": {},
   "outputs": [],
   "source": [
    "update_results(results, embeddings, \"umap\", \"trained\", labels, training_data)"
   ]
  },
  {
   "cell_type": "code",
   "execution_count": null,
   "id": "2cab5980-3d78-4b40-8da5-4da1782b21e8",
   "metadata": {},
   "outputs": [],
   "source": []
  },
  {
   "cell_type": "code",
   "execution_count": null,
   "id": "ec0a4e9a-4b0c-4116-ac65-c8fede080fdb",
   "metadata": {},
   "outputs": [],
   "source": []
  },
  {
   "cell_type": "code",
   "execution_count": null,
   "id": "f1003cf4-805b-4651-90df-d254bc932e98",
   "metadata": {},
   "outputs": [],
   "source": []
  },
  {
   "cell_type": "code",
   "execution_count": null,
   "id": "52ff9732-2dae-4eb5-9e69-aef9dc9bea11",
   "metadata": {},
   "outputs": [],
   "source": []
  },
  {
   "cell_type": "code",
   "execution_count": 42,
   "id": "9db89c1d-1f08-44f4-b71d-c543633d1823",
   "metadata": {},
   "outputs": [],
   "source": [
    "# TODO same for the untrained network"
   ]
  },
  {
   "cell_type": "code",
   "execution_count": 43,
   "id": "97c0e54b-d2b1-4db8-9ac4-f1fdf05565e1",
   "metadata": {},
   "outputs": [],
   "source": [
    "# Saving activations over the whole dataset for individual layers \n",
    "# (and corresponding filters)\n",
    "activations_zero, activations_first, activations_second, activations_third, labels = get_activations_labels(\n",
    "    n_examples,\n",
    "    width,\n",
    "    height,\n",
    "    train_dataloader,\n",
    "    untrained_network,\n",
    "    device\n",
    ")"
   ]
  },
  {
   "cell_type": "code",
   "execution_count": 44,
   "id": "d8028ec1-93f0-47c7-87ab-fbd37cef1046",
   "metadata": {},
   "outputs": [],
   "source": [
    "# Take smaller subset of data\n",
    "\n",
    "labels = labels[:5_000]\n",
    "activations_zero = activations_zero[:5000]\n",
    "\n",
    "for i in range(4):\n",
    "    activations_first[i] = activations_first[i][:5000]\n",
    "    \n",
    "for i in range(16):\n",
    "    activations_second[i] = activations_second[i][:5000]\n",
    "\n",
    "activations_third = activations_third[:5000]"
   ]
  },
  {
   "cell_type": "code",
   "execution_count": 45,
   "id": "6660ccd7-fb44-4055-a080-8daef8277e1b",
   "metadata": {},
   "outputs": [],
   "source": [
    "# --------- activations from network extracted -------- "
   ]
  },
  {
   "cell_type": "code",
   "execution_count": 46,
   "id": "65dfdbc9-3cfa-4116-abee-f876e9950420",
   "metadata": {},
   "outputs": [],
   "source": [
    "# Computing embeddings for one of the layers (filters)"
   ]
  },
  {
   "cell_type": "code",
   "execution_count": 47,
   "id": "b5b58269-8668-4598-beb5-76955e48b8fd",
   "metadata": {},
   "outputs": [
    {
     "name": "stdout",
     "output_type": "stream",
     "text": [
      "Learning embeddings for original dataset\n",
      "Learning embeddings for first layer\n",
      "Learning embeddings for second layer\n",
      "Learning embeddings for third layer\n",
      "CPU times: user 23min 4s, sys: 17.1 s, total: 23min 21s\n",
      "Wall time: 3min 15s\n"
     ]
    }
   ],
   "source": [
    "%%time\n",
    "\n",
    "embeddings = activations_tsne_plot_save(activations_zero, activations_first, activations_second,\n",
    "    activations_third, labels, training_data, \"../out/activations_cnn/mnist/t-sne/untrained/plot\")"
   ]
  },
  {
   "cell_type": "code",
   "execution_count": 48,
   "id": "181d4eaa-718c-4e77-af1e-eb0d023a8230",
   "metadata": {},
   "outputs": [],
   "source": [
    "# Metrics of embedding quality (same as before)"
   ]
  },
  {
   "cell_type": "code",
   "execution_count": 49,
   "id": "8b059727-d5a2-4f1a-ae55-2aceb1d0e686",
   "metadata": {},
   "outputs": [],
   "source": [
    "update_results(results, embeddings, \"t-sne\", \"untrained\", labels, training_data)"
   ]
  },
  {
   "cell_type": "code",
   "execution_count": 50,
   "id": "9754fa10-418c-4bc2-9661-5c7863432ded",
   "metadata": {},
   "outputs": [],
   "source": [
    "# ------- results (metrics) computed and saved into `results` ----------"
   ]
  },
  {
   "cell_type": "code",
   "execution_count": null,
   "id": "85363c56-fd8e-4faf-bc17-c2b3d392e3c0",
   "metadata": {},
   "outputs": [],
   "source": []
  },
  {
   "cell_type": "code",
   "execution_count": null,
   "id": "7b4030c5-d067-4fdb-a671-ff340a302bea",
   "metadata": {},
   "outputs": [],
   "source": []
  },
  {
   "cell_type": "code",
   "execution_count": null,
   "id": "3c164211-6b44-465b-89bb-9d5019b6dd8b",
   "metadata": {},
   "outputs": [],
   "source": []
  },
  {
   "cell_type": "code",
   "execution_count": 51,
   "id": "d87f8e2d-fe6b-40a3-999d-c89cb40dcd64",
   "metadata": {},
   "outputs": [],
   "source": [
    "# UMAP"
   ]
  },
  {
   "cell_type": "code",
   "execution_count": 52,
   "id": "4e2e4057-bdb6-4700-9be1-6b1a2497b564",
   "metadata": {},
   "outputs": [
    {
     "name": "stdout",
     "output_type": "stream",
     "text": [
      "Learning embeddings for original dataset\n",
      "Learning embeddings for first layer\n",
      "Learning embeddings for second layer\n",
      "Learning embeddings for third layer\n",
      "CPU times: user 8min 20s, sys: 20.3 s, total: 8min 40s\n",
      "Wall time: 2min 5s\n"
     ]
    }
   ],
   "source": [
    "%%time\n",
    "\n",
    "e0, e1, e2, e3 = activations_umap_plot_save(activations_zero, activations_first, activations_second,\n",
    "    activations_third, labels, training_data, \"../out/activations_cnn/mnist/umap/untrained/plot\")"
   ]
  },
  {
   "cell_type": "code",
   "execution_count": 53,
   "id": "6d55db5c-0756-4382-be2b-79eff1af4ca3",
   "metadata": {},
   "outputs": [],
   "source": [
    "update_results(results, embeddings, \"umap\", \"untrained\", labels, training_data)"
   ]
  },
  {
   "cell_type": "code",
   "execution_count": null,
   "id": "a9721f97-3187-4980-bc95-a524f2bf419a",
   "metadata": {},
   "outputs": [],
   "source": []
  },
  {
   "cell_type": "code",
   "execution_count": null,
   "id": "fea42b2a-be35-4826-b9ed-7595f33c2b95",
   "metadata": {},
   "outputs": [],
   "source": []
  },
  {
   "cell_type": "code",
   "execution_count": null,
   "id": "3366f9cc-c432-4d13-a882-5435ccd74594",
   "metadata": {},
   "outputs": [],
   "source": []
  },
  {
   "cell_type": "code",
   "execution_count": null,
   "id": "1e62aade-53b2-48f2-a0d1-b106e23b4f39",
   "metadata": {},
   "outputs": [],
   "source": []
  },
  {
   "cell_type": "code",
   "execution_count": null,
   "id": "629e4dd9-cfd3-4e3a-9346-f36260e53506",
   "metadata": {},
   "outputs": [],
   "source": []
  },
  {
   "cell_type": "code",
   "execution_count": 54,
   "id": "45c4fdfb-eb50-4d3d-890a-922442c39206",
   "metadata": {},
   "outputs": [],
   "source": [
    "def save_dataframe(df, out_dir, name):\n",
    "    with open(out_dir+name+'.tex', 'w') as tf:\n",
    "        tf.write(df.to_latex())\n",
    "\n",
    "    with open(out_dir+name+'.csv', 'w') as tf:\n",
    "        tf.write(df.to_csv())"
   ]
  },
  {
   "cell_type": "code",
   "execution_count": 55,
   "id": "c15ba5b9-e7bf-476a-ba87-5dbfa9f2f199",
   "metadata": {},
   "outputs": [],
   "source": [
    "def save(results, output_dir):\n",
    "    for layer in range(4):\n",
    "        layer_result = results[layer]\n",
    "        \n",
    "        for method in [\"t-sne\", \"umap\"]:\n",
    "            trained_df = pd.DataFrame(layer_result[method, \"trained\"])\n",
    "            untrained_df = pd.DataFrame(layer_result[method, \"untrained\"])\n",
    "\n",
    "            result_df = pd.DataFrame()\n",
    "            result_df[\"ds\"] = trained_df[\"ds\"] + \" / \" + untrained_df[\"ds\"]\n",
    "            result_df[\"dd\"] = trained_df[\"dd\"] + \" / \" + untrained_df[\"dd\"]\n",
    "            result_df[\"cs\"] = trained_df[\"cs\"] + \" / \" + untrained_df[\"cs\"]\n",
    "            result_df[\"cd\"] = trained_df[\"cd\"] + \" / \" + untrained_df[\"cd\"]\n",
    "            result_df[\"acc_knn\"] = trained_df[\"acc_knn\"] + \" / \" + untrained_df[\"acc_knn\"]\n",
    "\n",
    "            row_names = [\"filter \" + str(i+1) for i in range(len(trained_df))]\n",
    "            result_df = result_df.rename(dict(zip(result_df.index, row_names)))\n",
    "\n",
    "            output_dir_path = output_dir + \"/\" + method + \"/\"\n",
    "            save_dataframe(result_df, output_dir_path, \"table_l\" + str(layer))"
   ]
  },
  {
   "cell_type": "code",
   "execution_count": 56,
   "id": "02011dd1-2e1f-45a4-8f75-5b65046ebbfd",
   "metadata": {},
   "outputs": [],
   "source": [
    "def metrics_plots(results, output_dir, method, name):\n",
    "    metrics = [\"ds\", \"dd\", \"cs\", \"cd\", \"acc_knn\"]\n",
    "    \n",
    "    trained_vals = dict()\n",
    "    untrained_vals = dict()\n",
    "    for m in metrics:\n",
    "        trained_vals[m] = []\n",
    "        untrained_vals[m] = []\n",
    "        \n",
    "    for layer in results:\n",
    "        layer_result = results[layer]\n",
    "        trained_df = pd.DataFrame(layer_result[method, \"trained\"]).astype(float)\n",
    "        untrained_df = pd.DataFrame(layer_result[method, \"untrained\"]).astype(float)\n",
    "    \n",
    "        for m in metrics:\n",
    "            trained_vals[m].append(np.average(trained_df[m]))\n",
    "            untrained_vals[m].append(np.average(untrained_df[m]))\n",
    "            \n",
    "    for m in metrics:\n",
    "        fig, axes = plt.subplots()\n",
    "        axes.plot(trained_vals[m], marker=\".\", label=\"trained\")\n",
    "        axes.plot(untrained_vals[m], marker=\".\", label=\"untrained\")\n",
    "        axes.set(\n",
    "            xlabel=\"network depth\",\n",
    "            ylabel=m,\n",
    "        )\n",
    "        axes.legend()\n",
    "        plt.savefig(output_dir + \"/\" + method + \"/\" + name + \"_\" + m + \".png\")\n",
    "        plt.close()"
   ]
  },
  {
   "cell_type": "code",
   "execution_count": 57,
   "id": "a1a68243-a47d-4563-a415-21c21e59386f",
   "metadata": {},
   "outputs": [],
   "source": [
    "save(results, \"../out/activations_cnn/mnist/\")"
   ]
  },
  {
   "cell_type": "code",
   "execution_count": 58,
   "id": "41c8ff94-4002-43dd-886e-a7f8f7635e9f",
   "metadata": {},
   "outputs": [],
   "source": [
    "for method in [\"t-sne\", \"umap\"]:\n",
    "    metrics_plots(results, \"../out/activations_cnn/mnist/\", method, \"plot_metric\")"
   ]
  },
  {
   "cell_type": "code",
   "execution_count": null,
   "id": "b7decd6e-c277-457e-82eb-146820e35474",
   "metadata": {},
   "outputs": [],
   "source": []
  },
  {
   "cell_type": "markdown",
   "id": "743a5ced-fa3c-474a-8653-fb326d5ef3b6",
   "metadata": {},
   "source": [
    "### FashionMNIST"
   ]
  },
  {
   "cell_type": "code",
   "execution_count": 59,
   "id": "ec12210d-bb92-4788-9adc-9313935f672e",
   "metadata": {},
   "outputs": [],
   "source": [
    "# Load data\n",
    "training_data, test_data = load_FashionMNIST()\n",
    "train_dataloader = DataLoader(training_data, batch_size=64, shuffle=True)\n",
    "test_dataloader = DataLoader(test_data, batch_size=64, shuffle=True)"
   ]
  },
  {
   "cell_type": "code",
   "execution_count": 60,
   "id": "640b89b8-e8c5-48b8-acb3-40d526d50de3",
   "metadata": {},
   "outputs": [
    {
     "data": {
      "text/plain": [
       "<All keys matched successfully>"
      ]
     },
     "execution_count": 60,
     "metadata": {},
     "output_type": "execute_result"
    }
   ],
   "source": [
    "# Initialize network\n",
    "network = NeuralNetwork(n_classes)\n",
    "network.to(device)\n",
    "\n",
    "# Save untrained copy of the network\n",
    "untrained_state = deepcopy(network.state_dict())\n",
    "untrained_network = NeuralNetwork(n_classes)\n",
    "untrained_network.to(device).load_state_dict(untrained_state)"
   ]
  },
  {
   "cell_type": "code",
   "execution_count": 61,
   "id": "7be13ad9-9d17-4015-971a-e355643ec8cb",
   "metadata": {},
   "outputs": [
    {
     "name": "stdout",
     "output_type": "stream",
     "text": [
      "Epoch 1\n",
      "-------------------------------\n",
      "loss: 2.301979  [    0/60000]\n",
      "loss: 1.877224  [ 6400/60000]\n",
      "loss: 1.713700  [12800/60000]\n",
      "loss: 1.098885  [19200/60000]\n",
      "loss: 1.322365  [25600/60000]\n",
      "loss: 1.087818  [32000/60000]\n",
      "loss: 1.102940  [38400/60000]\n",
      "loss: 0.857388  [44800/60000]\n",
      "loss: 0.904264  [51200/60000]\n",
      "loss: 0.797003  [57600/60000]\n",
      "Test Error: \n",
      " Accuracy: 65.4%, Avg loss: 0.911226 \n",
      "\n",
      "Epoch 2\n",
      "-------------------------------\n",
      "loss: 0.853821  [    0/60000]\n",
      "loss: 0.939883  [ 6400/60000]\n",
      "loss: 1.108536  [12800/60000]\n",
      "loss: 0.723025  [19200/60000]\n",
      "loss: 0.805520  [25600/60000]\n",
      "loss: 0.926314  [32000/60000]\n",
      "loss: 1.239688  [38400/60000]\n",
      "loss: 0.768630  [44800/60000]\n",
      "loss: 0.652783  [51200/60000]\n",
      "loss: 0.909597  [57600/60000]\n",
      "Test Error: \n",
      " Accuracy: 66.3%, Avg loss: 0.839729 \n",
      "\n",
      "Epoch 3\n",
      "-------------------------------\n",
      "loss: 0.754058  [    0/60000]\n",
      "loss: 0.830923  [ 6400/60000]\n",
      "loss: 0.767857  [12800/60000]\n",
      "loss: 0.821163  [19200/60000]\n",
      "loss: 0.753362  [25600/60000]\n",
      "loss: 0.903409  [32000/60000]\n",
      "loss: 0.772409  [38400/60000]\n",
      "loss: 0.702811  [44800/60000]\n",
      "loss: 0.699949  [51200/60000]\n",
      "loss: 0.884882  [57600/60000]\n",
      "Test Error: \n",
      " Accuracy: 66.9%, Avg loss: 0.860565 \n",
      "\n",
      "Epoch 4\n",
      "-------------------------------\n",
      "loss: 0.821007  [    0/60000]\n",
      "loss: 0.690721  [ 6400/60000]\n",
      "loss: 0.614736  [12800/60000]\n",
      "loss: 0.811375  [19200/60000]\n",
      "loss: 0.598249  [25600/60000]\n",
      "loss: 0.638055  [32000/60000]\n",
      "loss: 0.727398  [38400/60000]\n",
      "loss: 0.843202  [44800/60000]\n",
      "loss: 0.874380  [51200/60000]\n",
      "loss: 0.905864  [57600/60000]\n",
      "Test Error: \n",
      " Accuracy: 68.8%, Avg loss: 0.782464 \n",
      "\n",
      "Epoch 5\n",
      "-------------------------------\n",
      "loss: 0.798637  [    0/60000]\n",
      "loss: 0.648764  [ 6400/60000]\n",
      "loss: 0.844390  [12800/60000]\n",
      "loss: 0.713579  [19200/60000]\n",
      "loss: 0.779166  [25600/60000]\n",
      "loss: 0.732712  [32000/60000]\n",
      "loss: 0.458020  [38400/60000]\n",
      "loss: 0.839430  [44800/60000]\n",
      "loss: 0.634018  [51200/60000]\n",
      "loss: 0.540835  [57600/60000]\n",
      "Test Error: \n",
      " Accuracy: 68.8%, Avg loss: 0.790299 \n",
      "\n",
      "Done!\n"
     ]
    }
   ],
   "source": [
    "loss_fn = nn.CrossEntropyLoss()\n",
    "optimizer = torch.optim.SGD(network.parameters(), lr=3e-2, momentum=0.9)\n",
    "\n",
    "epochs = 5\n",
    "for t in range(epochs):\n",
    "    print(f\"Epoch {t+1}\\n-------------------------------\")\n",
    "    train_loop(train_dataloader, network, loss_fn, optimizer, device)\n",
    "    test_loop(test_dataloader, network, loss_fn, device)\n",
    "print(\"Done!\")"
   ]
  },
  {
   "cell_type": "code",
   "execution_count": 62,
   "id": "7c1e8bf0-6daa-490b-84dd-38d68ef1966e",
   "metadata": {},
   "outputs": [],
   "source": [
    "# We won't need the data to be shuffled anymore\n",
    "train_dataloader = DataLoader(training_data, batch_size=64, shuffle=False)\n",
    "test_dataloader = DataLoader(test_data, batch_size=64, shuffle=False)"
   ]
  },
  {
   "cell_type": "code",
   "execution_count": 63,
   "id": "f013aa0d-bef6-4695-acfb-20911cecf461",
   "metadata": {},
   "outputs": [],
   "source": [
    "# Saving activations over the whole dataset for individual layers \n",
    "# (and corresponding filters)\n",
    "activations_zero, activations_first, activations_second, activations_third, labels = get_activations_labels(\n",
    "    n_examples,\n",
    "    width,\n",
    "    height,\n",
    "    train_dataloader,\n",
    "    network,\n",
    "    device\n",
    ")"
   ]
  },
  {
   "cell_type": "code",
   "execution_count": 64,
   "id": "4227b736-a71d-4f98-841d-5f63b5a7001a",
   "metadata": {},
   "outputs": [],
   "source": [
    "# Take smaller subset of data\n",
    "\n",
    "labels = labels[:5_000]\n",
    "activations_zero = activations_zero[:5000]\n",
    "\n",
    "for i in range(4):\n",
    "    activations_first[i] = activations_first[i][:5000]\n",
    "    \n",
    "for i in range(16):\n",
    "    activations_second[i] = activations_second[i][:5000]\n",
    "\n",
    "activations_third = activations_third[:5000]"
   ]
  },
  {
   "cell_type": "code",
   "execution_count": 65,
   "id": "e6bd8c92-6bba-47cd-b2e3-3fa032e4c348",
   "metadata": {},
   "outputs": [],
   "source": [
    "# --------- activations from network extracted -------- "
   ]
  },
  {
   "cell_type": "code",
   "execution_count": 66,
   "id": "7d130e6a-26e8-4a2d-9fe5-81bcf3e8c3fd",
   "metadata": {},
   "outputs": [],
   "source": [
    "# Computing embeddings for one of the layers (filters)"
   ]
  },
  {
   "cell_type": "code",
   "execution_count": 67,
   "id": "7b0901c9-1a4a-4ddc-a3d5-05041c7cc62d",
   "metadata": {},
   "outputs": [
    {
     "name": "stdout",
     "output_type": "stream",
     "text": [
      "Learning embeddings for original dataset\n",
      "Learning embeddings for first layer\n",
      "Learning embeddings for second layer\n",
      "Learning embeddings for third layer\n",
      "CPU times: user 21min, sys: 14.3 s, total: 21min 14s\n",
      "Wall time: 2min 53s\n"
     ]
    }
   ],
   "source": [
    "%%time\n",
    "\n",
    "embeddings = activations_tsne_plot_save(activations_zero, activations_first, activations_second,\n",
    "    activations_third, labels, training_data, \"../out/activations_cnn/fmnist/t-sne/trained/plot\")"
   ]
  },
  {
   "cell_type": "code",
   "execution_count": 68,
   "id": "a85eb1a4-f456-4536-8fa6-e6f16c02819c",
   "metadata": {},
   "outputs": [],
   "source": [
    "# Metrics of embedding quality (same as before)"
   ]
  },
  {
   "cell_type": "code",
   "execution_count": 69,
   "id": "6e5005a7-1330-4ed2-a312-55ce42efb0e0",
   "metadata": {},
   "outputs": [],
   "source": [
    "results = {\n",
    "    0: dict(),\n",
    "    1: dict(),\n",
    "    2: dict(),\n",
    "    3: dict()\n",
    "}\n",
    "update_results(results, embeddings, \"t-sne\", \"trained\", labels, training_data)"
   ]
  },
  {
   "cell_type": "code",
   "execution_count": 70,
   "id": "ab445b55-28b6-4900-9244-807c0fc75a9b",
   "metadata": {},
   "outputs": [],
   "source": [
    "# ------- results (metrics) computed and saved into `results` ----------"
   ]
  },
  {
   "cell_type": "code",
   "execution_count": null,
   "id": "35ede590-22d9-4fdf-aaaf-ac9b754d24db",
   "metadata": {},
   "outputs": [],
   "source": []
  },
  {
   "cell_type": "code",
   "execution_count": null,
   "id": "f5bff595-58d9-41a0-a314-9fc71f22d4d3",
   "metadata": {},
   "outputs": [],
   "source": []
  },
  {
   "cell_type": "code",
   "execution_count": 71,
   "id": "9c10b51a-42e7-4193-96c4-4d3d1b7e86c9",
   "metadata": {},
   "outputs": [],
   "source": [
    "# Analysis of the third layer"
   ]
  },
  {
   "cell_type": "code",
   "execution_count": 72,
   "id": "1e0026eb-57fc-4c5c-88dc-47a059579d0e",
   "metadata": {},
   "outputs": [],
   "source": [
    "e0, e1, e2, e3 = embeddings "
   ]
  },
  {
   "cell_type": "code",
   "execution_count": 73,
   "id": "7e91700d-3081-4819-80e0-e5466180f0c0",
   "metadata": {},
   "outputs": [
    {
     "data": {
      "image/png": "[encoded data removed]",
      "text/plain": [
       "<Figure size 864x576 with 1 Axes>"
      ]
     },
     "metadata": {
      "needs_background": "light"
     },
     "output_type": "display_data"
    }
   ],
   "source": [
    "# NOTE: no need to create new plot - already exists\n",
    "fig, axes = plt.subplots(figsize=(12,8))\n",
    "\n",
    "for i,actual_label in enumerate(training_data.classes):\n",
    "    indices = np.argwhere(labels == i)\n",
    "    indices = np.squeeze(indices)\n",
    "\n",
    "    axes.scatter(e3[indices,0],e3[indices,1],label=actual_label,s=12)\n",
    "    axes.legend(markerscale=3, fontsize=12)"
   ]
  },
  {
   "cell_type": "code",
   "execution_count": 74,
   "id": "c184d809-f146-402e-a23b-13f78fb8bb3b",
   "metadata": {},
   "outputs": [
    {
     "name": "stdout",
     "output_type": "stream",
     "text": [
      "CPU times: user 24.8 s, sys: 72.9 ms, total: 24.9 s\n",
      "Wall time: 18.4 s\n"
     ]
    }
   ],
   "source": [
    "%%time\n",
    "\n",
    "analyze_outliers(training_data, e3, labels, \"../out/activations_cnn/fmnist/t-sne/outliers/\")"
   ]
  },
  {
   "cell_type": "code",
   "execution_count": 75,
   "id": "8fa9d5fb-2a15-45db-bc1a-5d0f43b7f232",
   "metadata": {},
   "outputs": [],
   "source": [
    "# Per filter analysis"
   ]
  },
  {
   "cell_type": "code",
   "execution_count": 76,
   "id": "5aba1812-5f8a-4fbf-b4ff-87e3ad130900",
   "metadata": {},
   "outputs": [
    {
     "name": "stdout",
     "output_type": "stream",
     "text": [
      "CPU times: user 10.1 s, sys: 62.7 ms, total: 10.1 s\n",
      "Wall time: 9.67 s\n"
     ]
    }
   ],
   "source": [
    "%%time\n",
    "\n",
    "analyze_filters(training_data, \"../out/activations_cnn/fmnist/t-sne/filter_outputs/\", network, rng, device)"
   ]
  },
  {
   "cell_type": "code",
   "execution_count": null,
   "id": "f14845d9-44de-4af9-b06c-6af002cab79a",
   "metadata": {},
   "outputs": [],
   "source": []
  },
  {
   "cell_type": "code",
   "execution_count": null,
   "id": "bb0b4528-ac23-45d3-bc40-b079c7bc9c74",
   "metadata": {},
   "outputs": [],
   "source": []
  },
  {
   "cell_type": "code",
   "execution_count": null,
   "id": "7bb15c1e-f3d6-44a3-b401-1c69ecbbd469",
   "metadata": {},
   "outputs": [],
   "source": []
  },
  {
   "cell_type": "code",
   "execution_count": null,
   "id": "11304e13-9d8a-4e75-904d-af940c50afa2",
   "metadata": {},
   "outputs": [],
   "source": []
  },
  {
   "cell_type": "code",
   "execution_count": null,
   "id": "1a030d54-b5af-4904-87f0-fcccc3426670",
   "metadata": {},
   "outputs": [],
   "source": []
  },
  {
   "cell_type": "code",
   "execution_count": 77,
   "id": "83c6c7cd-aad9-4113-8756-b0994a91784d",
   "metadata": {},
   "outputs": [],
   "source": [
    "# UMAP"
   ]
  },
  {
   "cell_type": "code",
   "execution_count": 78,
   "id": "f1160811-505f-4eed-b37f-edb1d24132ae",
   "metadata": {},
   "outputs": [
    {
     "name": "stdout",
     "output_type": "stream",
     "text": [
      "Learning embeddings for original dataset\n",
      "Learning embeddings for first layer\n",
      "Learning embeddings for second layer\n",
      "Learning embeddings for third layer\n",
      "CPU times: user 8min 15s, sys: 20.7 s, total: 8min 36s\n",
      "Wall time: 2min\n"
     ]
    }
   ],
   "source": [
    "%%time\n",
    "\n",
    "e0, e1, e2, e3 = activations_umap_plot_save(activations_zero, activations_first, activations_second,\n",
    "    activations_third, labels, training_data, \"../out/activations_cnn/fmnist/umap/trained/plot\")"
   ]
  },
  {
   "cell_type": "code",
   "execution_count": 79,
   "id": "ac1d9fd4-ab41-4bb3-b258-a27a40a21424",
   "metadata": {},
   "outputs": [],
   "source": [
    "update_results(results, embeddings, \"umap\", \"trained\", labels, training_data)"
   ]
  },
  {
   "cell_type": "code",
   "execution_count": null,
   "id": "21051989-2580-41fd-8707-ca5f29971d31",
   "metadata": {},
   "outputs": [],
   "source": []
  },
  {
   "cell_type": "code",
   "execution_count": null,
   "id": "551b4da6-e5b7-4341-b793-5c335c0e407b",
   "metadata": {},
   "outputs": [],
   "source": []
  },
  {
   "cell_type": "code",
   "execution_count": null,
   "id": "c355b404-014f-4726-bb54-3901b0bfb41b",
   "metadata": {},
   "outputs": [],
   "source": []
  },
  {
   "cell_type": "code",
   "execution_count": null,
   "id": "356b53ad-2766-424d-be7c-f1874e82a958",
   "metadata": {},
   "outputs": [],
   "source": []
  },
  {
   "cell_type": "code",
   "execution_count": null,
   "id": "1f63152a-3503-4439-b711-749431fd1323",
   "metadata": {},
   "outputs": [],
   "source": []
  },
  {
   "cell_type": "code",
   "execution_count": null,
   "id": "5b6c3987-fd98-491d-b598-2f9e9e2d73a0",
   "metadata": {},
   "outputs": [],
   "source": []
  },
  {
   "cell_type": "code",
   "execution_count": null,
   "id": "fa8b4958-c033-4f34-94a2-7eb38daa109b",
   "metadata": {},
   "outputs": [],
   "source": []
  },
  {
   "cell_type": "code",
   "execution_count": 80,
   "id": "091aa9e2-257e-4341-910a-e5a6221f4d07",
   "metadata": {},
   "outputs": [],
   "source": [
    "# TODO same for the untrained network"
   ]
  },
  {
   "cell_type": "code",
   "execution_count": 81,
   "id": "2a607850-9262-4532-b8ab-7f7fca9cf042",
   "metadata": {},
   "outputs": [],
   "source": [
    "# Saving activations over the whole dataset for individual layers \n",
    "# (and corresponding filters)\n",
    "activations_zero, activations_first, activations_second, activations_third, labels = get_activations_labels(\n",
    "    n_examples,\n",
    "    width,\n",
    "    height,\n",
    "    train_dataloader,\n",
    "    untrained_network,\n",
    "    device\n",
    ")"
   ]
  },
  {
   "cell_type": "code",
   "execution_count": 82,
   "id": "09123ae2-8a42-488c-a4f2-f2aa0df39211",
   "metadata": {},
   "outputs": [],
   "source": [
    "# Take smaller subset of data\n",
    "\n",
    "labels = labels[:5_000]\n",
    "activations_zero = activations_zero[:5000]\n",
    "\n",
    "for i in range(4):\n",
    "    activations_first[i] = activations_first[i][:5000]\n",
    "    \n",
    "for i in range(16):\n",
    "    activations_second[i] = activations_second[i][:5000]\n",
    "\n",
    "activations_third = activations_third[:5000]"
   ]
  },
  {
   "cell_type": "code",
   "execution_count": 83,
   "id": "797a87e2-65d9-4765-a2dc-d205ddad2be2",
   "metadata": {},
   "outputs": [],
   "source": [
    "# --------- activations from network extracted -------- "
   ]
  },
  {
   "cell_type": "code",
   "execution_count": 84,
   "id": "5752b3f2-1b21-4bc3-8ab2-f24f4702d76a",
   "metadata": {},
   "outputs": [],
   "source": [
    "# Computing embeddings for one of the layers (filters)"
   ]
  },
  {
   "cell_type": "code",
   "execution_count": 85,
   "id": "51bfc3f8-ba2e-4f7e-83e0-66b51d36ab4c",
   "metadata": {},
   "outputs": [
    {
     "name": "stdout",
     "output_type": "stream",
     "text": [
      "Learning embeddings for original dataset\n",
      "Learning embeddings for first layer\n",
      "Learning embeddings for second layer\n",
      "Learning embeddings for third layer\n",
      "CPU times: user 20min 29s, sys: 13.3 s, total: 20min 43s\n",
      "Wall time: 2min 48s\n"
     ]
    }
   ],
   "source": [
    "%%time\n",
    "\n",
    "embeddings = activations_tsne_plot_save(activations_zero, activations_first, activations_second,\n",
    "    activations_third, labels, training_data, \"../out/activations_cnn/fmnist/t-sne/untrained/plot\")"
   ]
  },
  {
   "cell_type": "code",
   "execution_count": 86,
   "id": "5d512948-437c-458f-8522-57f57599920f",
   "metadata": {},
   "outputs": [],
   "source": [
    "# Metrics of embedding quality (same as before)"
   ]
  },
  {
   "cell_type": "code",
   "execution_count": 87,
   "id": "ae9c6c19-e99e-49d6-8455-423ecd05d6d0",
   "metadata": {},
   "outputs": [],
   "source": [
    "update_results(results, embeddings, \"t-sne\", \"untrained\", labels, training_data)"
   ]
  },
  {
   "cell_type": "code",
   "execution_count": 88,
   "id": "710c3f81-4831-4ea5-9666-0e9746f9fe42",
   "metadata": {},
   "outputs": [],
   "source": [
    "# ------- results (metrics) computed and saved into `results` ----------"
   ]
  },
  {
   "cell_type": "code",
   "execution_count": null,
   "id": "0b7d081c-9d32-4ba0-a86a-1294d82c8c35",
   "metadata": {},
   "outputs": [],
   "source": []
  },
  {
   "cell_type": "code",
   "execution_count": null,
   "id": "b77856a1-ff25-4c30-b672-bb246e3d3b6f",
   "metadata": {},
   "outputs": [],
   "source": []
  },
  {
   "cell_type": "code",
   "execution_count": null,
   "id": "c7ad6320-181c-4cea-b96f-a151e2833c1a",
   "metadata": {},
   "outputs": [],
   "source": []
  },
  {
   "cell_type": "code",
   "execution_count": 89,
   "id": "a61a4560-9841-422e-806f-8ed2b87c568d",
   "metadata": {},
   "outputs": [],
   "source": [
    "# UMAP"
   ]
  },
  {
   "cell_type": "code",
   "execution_count": 90,
   "id": "9d35d8be-9f5f-4f3b-b6d9-e80fc6ba0243",
   "metadata": {},
   "outputs": [
    {
     "name": "stdout",
     "output_type": "stream",
     "text": [
      "Learning embeddings for original dataset\n",
      "Learning embeddings for first layer\n",
      "Learning embeddings for second layer\n",
      "Learning embeddings for third layer\n",
      "CPU times: user 9min 43s, sys: 19.2 s, total: 10min 2s\n",
      "Wall time: 2min 9s\n"
     ]
    }
   ],
   "source": [
    "%%time\n",
    "\n",
    "e0, e1, e2, e3 = activations_umap_plot_save(activations_zero, activations_first, activations_second,\n",
    "    activations_third, labels, training_data, \"../out/activations_cnn/fmnist/umap/untrained/plot\")"
   ]
  },
  {
   "cell_type": "code",
   "execution_count": 91,
   "id": "6dad8106-4703-467a-b6d4-24667fe08b62",
   "metadata": {},
   "outputs": [],
   "source": [
    "update_results(results, embeddings, \"umap\", \"untrained\", labels, training_data)"
   ]
  },
  {
   "cell_type": "code",
   "execution_count": null,
   "id": "61c84dd2-7770-4a84-88c2-2d94b24b59f1",
   "metadata": {},
   "outputs": [],
   "source": []
  },
  {
   "cell_type": "code",
   "execution_count": null,
   "id": "6e6a2ce1-2386-4860-8da2-0d8b4026ec61",
   "metadata": {},
   "outputs": [],
   "source": []
  },
  {
   "cell_type": "code",
   "execution_count": null,
   "id": "81bd9da5-32a0-4ef1-b169-8b1bf3b00a7a",
   "metadata": {},
   "outputs": [],
   "source": []
  },
  {
   "cell_type": "code",
   "execution_count": 92,
   "id": "63f2e951-06a0-4151-9c03-fdafc116c705",
   "metadata": {},
   "outputs": [],
   "source": [
    "save(results, \"../out/activations_cnn/fmnist/\")"
   ]
  },
  {
   "cell_type": "code",
   "execution_count": 93,
   "id": "c0058e03-177b-448e-ba8a-ec7841a9f4c0",
   "metadata": {},
   "outputs": [],
   "source": [
    "for method in [\"t-sne\", \"umap\"]:\n",
    "    metrics_plots(results, \"../out/activations_cnn/fmnist/\", method, \"plot_metric\")"
   ]
  },
  {
   "cell_type": "code",
   "execution_count": null,
   "id": "e53cdfea-c2ad-48b6-844d-9f1ef0eec128",
   "metadata": {},
   "outputs": [],
   "source": []
  },
  {
   "cell_type": "code",
   "execution_count": null,
   "id": "4e168643-df7f-4b73-b3a7-d11fdd4d1477",
   "metadata": {},
   "outputs": [],
   "source": []
  },
  {
   "cell_type": "code",
   "execution_count": null,
   "id": "71ec12cd-2b8d-40c0-bd12-93ed7c30fc9c",
   "metadata": {},
   "outputs": [],
   "source": []
  },
  {
   "cell_type": "code",
   "execution_count": null,
   "id": "83f91b09-1805-4ce9-805b-0dcd643f40c9",
   "metadata": {},
   "outputs": [],
   "source": []
  },
  {
   "cell_type": "code",
   "execution_count": null,
   "id": "86bf2f3b-625b-40df-858b-bfc2468efcf4",
   "metadata": {},
   "outputs": [],
   "source": []
  },
  {
   "cell_type": "code",
   "execution_count": null,
   "id": "1f22e2ff-d83c-43ba-9b2e-8d3e98fa98f9",
   "metadata": {},
   "outputs": [],
   "source": []
  }
 ],
 "metadata": {
  "kernelspec": {
   "display_name": "Python 3",
   "language": "python",
   "name": "python3"
  },
  "language_info": {
   "codemirror_mode": {
    "name": "ipython",
    "version": 3
   },
   "file_extension": ".py",
   "mimetype": "text/x-python",
   "name": "python",
   "nbconvert_exporter": "python",
   "pygments_lexer": "ipython3",
   "version": "3.9.6"
  }
 },
 "nbformat": 4,
 "nbformat_minor": 5
}
